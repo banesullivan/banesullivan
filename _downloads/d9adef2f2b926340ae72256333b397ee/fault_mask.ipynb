{
  "cells": [
    {
      "cell_type": "code",
      "execution_count": null,
      "metadata": {
        "collapsed": false
      },
      "outputs": [],
      "source": [
        "%matplotlib inline\nfrom pyvista import set_plot_theme\nset_plot_theme('document')"
      ]
    },
    {
      "cell_type": "markdown",
      "metadata": {},
      "source": [
        "\n# Masked Grid for Two Sides of a Fault\n\nIn this example, I demonstrate how to use a surface mesh of a fault in the\nsubsurface to create a data mask on a modeling grid. This is a particularly\nuseful exercise for scenarios where you may want to perform some sort of\nmodeling in a different manner due to geological differences on the two sides\nof the fault - but still have a single modeling grid.\n\nLet's get to it!\n"
      ]
    },
    {
      "cell_type": "code",
      "execution_count": null,
      "metadata": {
        "collapsed": false
      },
      "outputs": [],
      "source": [
        "# sphinx_gallery_thumbnail_number = 4\nimport numpy as np\nimport pooch\nimport pyvista as pv"
      ]
    },
    {
      "cell_type": "code",
      "execution_count": null,
      "metadata": {
        "collapsed": false
      },
      "outputs": [],
      "source": [
        "url = \"https://raw.githubusercontent.com/pyvista/vtk-data/master/Data/opal_mound_fault.vtk\"\nfile_path = pooch.retrieve(url=url, known_hash=None)\nfault = pv.read(file_path)\nfault"
      ]
    },
    {
      "cell_type": "markdown",
      "metadata": {},
      "source": [
        "Create the modelling grid if you don't already have one\n\n"
      ]
    },
    {
      "cell_type": "code",
      "execution_count": null,
      "metadata": {
        "collapsed": false
      },
      "outputs": [],
      "source": [
        "grid = pv.UniformGrid()\n# Bottom south-west corner\ngrid.origin = (329700, 4252600, -2700)\n# Cell sizes\ngrid.spacing = (500, 500, 500)\n# Number of cells in each direction\ngrid.dimensions = (30, 35, 10)\ngrid"
      ]
    },
    {
      "cell_type": "markdown",
      "metadata": {},
      "source": [
        "Take a quick preview to see where the fault is inside of the grid\n\n"
      ]
    },
    {
      "cell_type": "code",
      "execution_count": null,
      "metadata": {
        "collapsed": false
      },
      "outputs": [],
      "source": [
        "p = pv.Plotter()\np.add_mesh(grid, opacity=0.5)\np.add_mesh(fault, color=\"orange\")\np.show()"
      ]
    },
    {
      "cell_type": "markdown",
      "metadata": {},
      "source": [
        "You may notice that the modeling grid's extent is far greater than that of\nthe fault -- not to worry! PyVista's `clip_surface` filter and the utility\nI'm going to share below handles this quite well by interpolating the fault's\nplane outward.\n\nThis is a reusable utility for performing the mask:\n\n"
      ]
    },
    {
      "cell_type": "code",
      "execution_count": null,
      "metadata": {
        "collapsed": false
      },
      "outputs": [],
      "source": [
        "def mask_mesh_by_surface(mesh, surface):\n    grid = mesh.copy()\n    # Split the mesh by the fault\n    grid[\"pids\"] = np.arange(grid.n_points)\n    grid[\"cids\"] = np.arange(grid.n_cells)\n    a = grid.clip_surface(surface, invert=False, compute_distance=True)\n    b = grid.clip_surface(surface, invert=True, compute_distance=True)\n    # Inject the mask\n    grid[\"cell_mask\"] = np.zeros(grid.n_cells, dtype=int)\n    grid[\"cell_mask\"][a[\"cids\"]] = 1\n    grid[\"cell_mask\"][b[\"cids\"]] = 2\n    # Use implicit distance to get point mask\n    lpids = np.argwhere(grid[\"implicit_distance\"] >= 0)\n    gpids = np.argwhere(grid[\"implicit_distance\"] < 0)\n    grid[\"point_mask\"] = np.zeros(grid.n_points, dtype=int)\n    grid[\"point_mask\"][lpids] = 1\n    grid[\"point_mask\"][gpids] = 2\n    return grid"
      ]
    },
    {
      "cell_type": "markdown",
      "metadata": {},
      "source": [
        "Let's run it and take a look at the result!\n\n"
      ]
    },
    {
      "cell_type": "code",
      "execution_count": null,
      "metadata": {
        "collapsed": false
      },
      "outputs": [],
      "source": [
        "masked = mask_mesh_by_surface(grid, fault)\n\np = pv.Plotter()\np.add_mesh(fault, color=\"orange\")\np.add_mesh(masked, scalars=\"point_mask\", opacity=0.5)\np.show()"
      ]
    },
    {
      "cell_type": "markdown",
      "metadata": {},
      "source": [
        "And here is how you might use that mask to do some sort of fancy modeling.\nIn my example, I'm going to use a rather sophisticated distance calculation:\n\n"
      ]
    },
    {
      "cell_type": "code",
      "execution_count": null,
      "metadata": {
        "collapsed": false
      },
      "outputs": [],
      "source": [
        "ids = np.argwhere(masked[\"point_mask\"] == 1).ravel()\npts = grid.points[ids]\nlen(pts)"
      ]
    },
    {
      "cell_type": "markdown",
      "metadata": {},
      "source": [
        "Compute distance from TNE corner\n\n"
      ]
    },
    {
      "cell_type": "code",
      "execution_count": null,
      "metadata": {
        "collapsed": false
      },
      "outputs": [],
      "source": [
        "compute = lambda a, b: np.sqrt(np.sum((b - a) ** 2, axis=1))\ndist = compute(pts, np.repeat([masked.bounds[1::2]], pts.shape[0], axis=0))"
      ]
    },
    {
      "cell_type": "markdown",
      "metadata": {},
      "source": [
        "Add those results back to the source grid\n\n"
      ]
    },
    {
      "cell_type": "code",
      "execution_count": null,
      "metadata": {
        "collapsed": false
      },
      "outputs": [],
      "source": [
        "masked[\"cool_math\"] = np.zeros(grid.n_points)  # Need to preallocate\nmasked[\"cool_math\"][ids] = dist\n\n# Do some different math for the other side\n..."
      ]
    },
    {
      "cell_type": "markdown",
      "metadata": {},
      "source": [
        "Display!\n\n"
      ]
    },
    {
      "cell_type": "code",
      "execution_count": null,
      "metadata": {
        "collapsed": false
      },
      "outputs": [],
      "source": [
        "masked.plot(scalars=\"cool_math\")"
      ]
    },
    {
      "cell_type": "markdown",
      "metadata": {},
      "source": [
        "Visualize one side of the masked grid\n\n"
      ]
    },
    {
      "cell_type": "code",
      "execution_count": null,
      "metadata": {
        "collapsed": false
      },
      "outputs": [],
      "source": [
        "a = masked.threshold(1.5, scalars=\"cell_mask\", invert=True)\n\np = pv.Plotter()\np.add_mesh(a, scalars=\"cool_math\")\np.add_mesh(fault, color=\"orange\")\np.show()"
      ]
    }
  ],
  "metadata": {
    "kernelspec": {
      "display_name": "Python 3",
      "language": "python",
      "name": "python3"
    },
    "language_info": {
      "codemirror_mode": {
        "name": "ipython",
        "version": 3
      },
      "file_extension": ".py",
      "mimetype": "text/x-python",
      "name": "python",
      "nbconvert_exporter": "python",
      "pygments_lexer": "ipython3",
      "version": "3.8.17"
    }
  },
  "nbformat": 4,
  "nbformat_minor": 0
}