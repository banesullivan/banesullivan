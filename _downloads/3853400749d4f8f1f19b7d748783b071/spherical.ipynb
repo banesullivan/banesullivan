{
  "cells": [
    {
      "cell_type": "code",
      "execution_count": null,
      "metadata": {
        "collapsed": false
      },
      "outputs": [],
      "source": [
        "%matplotlib inline\nfrom pyvista import set_plot_theme\nset_plot_theme('document')"
      ]
    },
    {
      "cell_type": "markdown",
      "metadata": {},
      "source": [
        "\n# Spherical Data\n\nOriginally posted: https://github.com/pyvista/pyvista-support/issues/67\n\nSee also https://docs.pyvista.org/examples/02-plot/spherical.html\n"
      ]
    },
    {
      "cell_type": "code",
      "execution_count": null,
      "metadata": {
        "collapsed": false
      },
      "outputs": [],
      "source": [
        "import numpy as np\nimport pooch\nimport pyvista as pv\nimport xarray as xr\n\nurl = \"https://raw.githubusercontent.com/pyvista/vtk-data/master/Data/lsm_4x5.nc\"\nfile_path = pooch.retrieve(url=url, known_hash=None)\n\nlsm = xr.open_dataarray(file_path)\n\nxx, yy, zz = np.meshgrid(\n    np.radians(\n        np.arange(\n            0,\n            365,\n            5,\n        )\n    ),\n    np.radians(np.arange(-90, 94, 4)),\n    [0],\n)"
      ]
    },
    {
      "cell_type": "markdown",
      "metadata": {},
      "source": [
        "Transform to spherical coordinates\n\n"
      ]
    },
    {
      "cell_type": "code",
      "execution_count": null,
      "metadata": {
        "collapsed": false
      },
      "outputs": [],
      "source": [
        "radius = 6371.0e6\nx = radius * np.cos(yy) * np.cos(xx)\ny = radius * np.cos(yy) * np.sin(xx)\nz = radius * np.sin(yy)"
      ]
    },
    {
      "cell_type": "markdown",
      "metadata": {},
      "source": [
        "Create PyVista mesh\n\n"
      ]
    },
    {
      "cell_type": "code",
      "execution_count": null,
      "metadata": {
        "collapsed": false
      },
      "outputs": [],
      "source": [
        "grid = pv.StructuredGrid(x, y, z)\ngrid.cell_data[\"lsm\"] = np.array(lsm).ravel(order=\"F\")"
      ]
    },
    {
      "cell_type": "markdown",
      "metadata": {},
      "source": [
        "Visualize!\n\n"
      ]
    },
    {
      "cell_type": "code",
      "execution_count": null,
      "metadata": {
        "collapsed": false
      },
      "outputs": [],
      "source": [
        "grid.plot()"
      ]
    }
  ],
  "metadata": {
    "kernelspec": {
      "display_name": "Python 3",
      "language": "python",
      "name": "python3"
    },
    "language_info": {
      "codemirror_mode": {
        "name": "ipython",
        "version": 3
      },
      "file_extension": ".py",
      "mimetype": "text/x-python",
      "name": "python",
      "nbconvert_exporter": "python",
      "pygments_lexer": "ipython3",
      "version": "3.8.18"
    }
  },
  "nbformat": 4,
  "nbformat_minor": 0
}