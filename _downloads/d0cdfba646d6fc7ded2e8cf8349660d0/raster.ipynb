{
  "cells": [
    {
      "cell_type": "code",
      "execution_count": null,
      "metadata": {
        "collapsed": false
      },
      "outputs": [],
      "source": [
        "%matplotlib inline\nfrom pyvista import set_plot_theme\nset_plot_theme('document')"
      ]
    },
    {
      "cell_type": "markdown",
      "metadata": {},
      "source": [
        "\n# Read a raster using xarray\n\nUse xarray and rasterio to load a raster into a StructuredGrid.\n"
      ]
    },
    {
      "cell_type": "code",
      "execution_count": null,
      "metadata": {
        "collapsed": false
      },
      "outputs": [],
      "source": [
        "import numpy as np\nimport pooch\nimport pyvista as pv\nfrom rasterio.warp import transform\nimport rioxarray"
      ]
    },
    {
      "cell_type": "markdown",
      "metadata": {},
      "source": [
        "The following is a function you can use to load just about any geospatial\nraster.\n\n"
      ]
    },
    {
      "cell_type": "code",
      "execution_count": null,
      "metadata": {
        "collapsed": false
      },
      "outputs": [],
      "source": [
        "def read_raster(filename, out_crs=\"EPSG:3857\", use_z=False):\n    \"\"\"Read a raster to a ``pyvista.StructuredGrid``.\n\n    This will handle coordinate transformations.\n    \"\"\"\n    # Read in the data\n    data = rioxarray.open_rasterio(filename)\n    values = np.asarray(data)\n    data.rio.nodata\n    nans = values == data.rio.nodata\n    if np.any(nans):\n        # values = np.ma.masked_where(nans, values)\n        values[nans] = np.nan\n    # Make a mesh\n    xx, yy = np.meshgrid(data[\"x\"], data[\"y\"])\n    if use_z and values.shape[0] == 1:\n        # will make z-comp the values in the file\n        zz = values.reshape(xx.shape)\n    else:\n        # or this will make it flat\n        zz = np.zeros_like(xx)\n    mesh = pv.StructuredGrid(xx, yy, zz)\n    pts = mesh.points\n    lon, lat = transform(data.rio.crs, out_crs, pts[:, 0], pts[:, 1])\n    mesh.points[:, 0] = lon\n    mesh.points[:, 1] = lat\n    mesh[\"data\"] = values.reshape(mesh.n_points, -1, order=\"F\")\n    return mesh"
      ]
    },
    {
      "cell_type": "markdown",
      "metadata": {},
      "source": [
        "Download a sample GeoTiff to demonstrate\n\n"
      ]
    },
    {
      "cell_type": "code",
      "execution_count": null,
      "metadata": {
        "collapsed": false
      },
      "outputs": [],
      "source": [
        "url = \"https://raw.githubusercontent.com/pyvista/vtk-data/master/Data/Elevation.tif\"\nfile_path = pooch.retrieve(url=url, known_hash=None)"
      ]
    },
    {
      "cell_type": "markdown",
      "metadata": {},
      "source": [
        "Use the utility function to load that file.\n\n"
      ]
    },
    {
      "cell_type": "code",
      "execution_count": null,
      "metadata": {
        "collapsed": false
      },
      "outputs": [],
      "source": [
        "topo = read_raster(file_path, use_z=True)\ntopo"
      ]
    },
    {
      "cell_type": "code",
      "execution_count": null,
      "metadata": {
        "collapsed": false
      },
      "outputs": [],
      "source": [
        "topo.plot()"
      ]
    }
  ],
  "metadata": {
    "kernelspec": {
      "display_name": "Python 3",
      "language": "python",
      "name": "python3"
    },
    "language_info": {
      "codemirror_mode": {
        "name": "ipython",
        "version": 3
      },
      "file_extension": ".py",
      "mimetype": "text/x-python",
      "name": "python",
      "nbconvert_exporter": "python",
      "pygments_lexer": "ipython3",
      "version": "3.8.14"
    }
  },
  "nbformat": 4,
  "nbformat_minor": 0
}